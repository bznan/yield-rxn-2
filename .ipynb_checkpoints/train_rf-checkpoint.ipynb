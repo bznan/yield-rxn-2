{
 "cells": [
  {
   "cell_type": "code",
   "execution_count": null,
   "metadata": {},
   "outputs": [],
   "source": []
  },
  {
   "cell_type": "code",
   "execution_count": 18,
   "metadata": {},
   "outputs": [],
   "source": [
    "import pandas as pd\n",
    "from sklearn.model_selection import train_test_split, GridSearchCV, StratifiedKFold,cross_val_score,StratifiedShuffleSplit,cross_validate\n",
    "from sklearn.metrics import make_scorer\n",
    "from sklearn.metrics import r2_score\n",
    "from sklearn.exceptions import DataConversionWarning\n",
    "import warnings    \n",
    "from sklearn.model_selection import train_test_split\n",
    "from sklearn.ensemble import RandomForestRegressor\n",
    "from sklearn.metrics import r2_score,mean_squared_error\n",
    "import seaborn as sns\n",
    "import numpy as np\n",
    "from sklearn.preprocessing import StandardScaler\n",
    "from collections import defaultdict\n"
   ]
  },
  {
   "cell_type": "code",
   "execution_count": 38,
   "metadata": {},
   "outputs": [],
   "source": [
    "df_o=pd.read_csv('data/doyle_data.csv')\n",
    "\n",
    "to_drop=list(df_o.columns[(df_o == 0).all()])+['additive','base','aryl_halide','ligand','Unnamed: 0']\n",
    "scaler = StandardScaler()\n",
    "\n",
    "\n",
    "df=df_o\n",
    "df.drop(to_drop, axis=1, inplace=True)\n",
    "curr_cols=list(df.columns)\n",
    "curr_cols.remove('yield')\n",
    "#new_cols=curr_cols[0]+['yield']+curr_cols\n",
    "len(new_cols)==len(curr_cols)\n",
    "\n",
    "df.fillna(0, inplace=True)\n",
    "df=df[new_cols]\n",
    "df.iloc[:,2:-1] = scaler.fit_transform(df.iloc[:,2:-1].to_numpy())"
   ]
  },
  {
   "cell_type": "code",
   "execution_count": 25,
   "metadata": {},
   "outputs": [
    {
     "data": {
      "text/plain": [
       "0       26.88862\n",
       "1       24.06322\n",
       "2       47.51582\n",
       "3        2.12683\n",
       "4       47.58635\n",
       "          ...   \n",
       "4594     0.00000\n",
       "4595     0.00000\n",
       "4596     0.00000\n",
       "4597     0.00000\n",
       "4598     0.00000\n",
       "Name: yield, Length: 4599, dtype: float64"
      ]
     },
     "execution_count": 25,
     "metadata": {},
     "output_type": "execute_result"
    }
   ],
   "source": [
    "df['yield']"
   ]
  },
  {
   "cell_type": "code",
   "execution_count": null,
   "metadata": {},
   "outputs": [],
   "source": [
    "for val in data_dict.values():\n",
    "        f.write(val[0]+'\\t'+','.join(map(str,val[1:]))+'\\n')"
   ]
  },
  {
   "cell_type": "code",
   "execution_count": 40,
   "metadata": {},
   "outputs": [],
   "source": [
    "data_dict=df.transpose().to_dict(orient='list')\n"
   ]
  },
  {
   "cell_type": "code",
   "execution_count": 44,
   "metadata": {},
   "outputs": [],
   "source": [
    "with open('data/doyle_data_clean.txt','w') as f:\n",
    "    for val in data_dict.values():\n",
    "        f.write(val[1]+'\\t'+','.join(map(str,val[2:]))+'\\n')\n",
    "    "
   ]
  },
  {
   "cell_type": "code",
   "execution_count": 41,
   "metadata": {},
   "outputs": [
    {
     "data": {
      "text/html": [
       "<div>\n",
       "<style scoped>\n",
       "    .dataframe tbody tr th:only-of-type {\n",
       "        vertical-align: middle;\n",
       "    }\n",
       "\n",
       "    .dataframe tbody tr th {\n",
       "        vertical-align: top;\n",
       "    }\n",
       "\n",
       "    .dataframe thead th {\n",
       "        text-align: right;\n",
       "    }\n",
       "</style>\n",
       "<table border=\"1\" class=\"dataframe\">\n",
       "  <thead>\n",
       "    <tr style=\"text-align: right;\">\n",
       "      <th></th>\n",
       "      <th>aryl_halide_molecular_weight</th>\n",
       "      <th>aryl_halide_molecular_volume</th>\n",
       "      <th>aryl_halide_surface_area</th>\n",
       "      <th>aryl_halide_ovality</th>\n",
       "      <th>aryl_halide_hardness</th>\n",
       "      <th>aryl_halide_dipole_moment</th>\n",
       "      <th>aryl_halide_electronegativity</th>\n",
       "      <th>aryl_halide_E_HOMO</th>\n",
       "      <th>aryl_halide_E_LOMO</th>\n",
       "      <th>aryl_halide_V0_frequency</th>\n",
       "      <th>...</th>\n",
       "      <th>additive_E_HOMO</th>\n",
       "      <th>additive_E_LOMO</th>\n",
       "      <th>additive_V0_frequency</th>\n",
       "      <th>additive_V0_intensity</th>\n",
       "      <th>additive_.C3_electrostatic_charge</th>\n",
       "      <th>additive_.C3_NMR_shift</th>\n",
       "      <th>additive_.C5_electrostatic_charge</th>\n",
       "      <th>additive_.C5_NMR_shift</th>\n",
       "      <th>additive_.O1_electrostatic_charge</th>\n",
       "      <th>additive_.N1_electrostatic_charge</th>\n",
       "    </tr>\n",
       "  </thead>\n",
       "  <tbody>\n",
       "  </tbody>\n",
       "</table>\n",
       "<p>0 rows × 119 columns</p>\n",
       "</div>"
      ],
      "text/plain": [
       "Empty DataFrame\n",
       "Columns: [aryl_halide_molecular_weight, aryl_halide_molecular_volume, aryl_halide_surface_area, aryl_halide_ovality, aryl_halide_hardness, aryl_halide_dipole_moment, aryl_halide_electronegativity, aryl_halide_E_HOMO, aryl_halide_E_LOMO, aryl_halide_V0_frequency, aryl_halide_V0_intensity, aryl_halide_V1_frequency, aryl_halide_V1_intensity, aryl_halide_V2_frequency, aryl_halide_V2_intensity, aryl_halide_.C1_electrostatic_charge, aryl_halide_.C1_NMR_shift, aryl_halide_.C2_electrostatic_charge, aryl_halide_.C2_NMR_shift, aryl_halide_.C3_electrostatic_charge, aryl_halide_.C3_NMR_shift, aryl_halide_.C4_electrostatic_charge, aryl_halide_.C4_NMR_shift, aryl_halide_.H2_electrostatic_charge, aryl_halide_.H2_NMR_shift, aryl_halide_.H3_electrostatic_charge, aryl_halide_.H3_NMR_shift, base_molecular_weight, base_molecular_volume, base_surface_area, base_ovality, base_hardness, base_dipole_moment, base_electronegativity, base_E_HOMO, base_E_LOMO, base_.N1_electrostatic_charge, ligand_dipole_moment, ligand_V0_frequency, ligand_V0_intensity, ligand_V1_frequency, ligand_V1_intensity, ligand_V2_frequency, ligand_V2_intensity, ligand_V3_frequency, ligand_V3_intensity, ligand_V4_frequency, ligand_V4_intensity, ligand_V5_frequency, ligand_V5_intensity, ligand_V6_frequency, ligand_V6_intensity, ligand_V7_frequency, ligand_V7_intensity, ligand_V8_frequency, ligand_V8_intensity, ligand_V9_frequency, ligand_V9_intensity, ligand_.C1_electrostatic_charge, ligand_.C1_NMR_shift, ligand_.C2_electrostatic_charge, ligand_.C2_NMR_shift, ligand_.C3_electrostatic_charge, ligand_.C3_NMR_shift, ligand_.C4_electrostatic_charge, ligand_.C4_NMR_shift, ligand_.C5_electrostatic_charge, ligand_.C5_NMR_shift, ligand_.C6_electrostatic_charge, ligand_.C6_NMR_shift, ligand_.C7_electrostatic_charge, ligand_.C7_NMR_shift, ligand_.C8_electrostatic_charge, ligand_.C8_NMR_shift, ligand_.C9_electrostatic_charge, ligand_.C9_NMR_shift, ligand_.C10_electrostatic_charge, ligand_.C10_NMR_shift, ligand_.C11_electrostatic_charge, ligand_.C11_NMR_shift, ligand_.C12_electrostatic_charge, ligand_.C12_NMR_shift, ligand_.C13_electrostatic_charge, ligand_.C13_NMR_shift, ligand_.C14_electrostatic_charge, ligand_.C14_NMR_shift, ligand_.C15_electrostatic_charge, ligand_.C15_NMR_shift, ligand_.C16_electrostatic_charge, ligand_.C16_NMR_shift, ligand_.C17_electrostatic_charge, ligand_.C17_NMR_shift, ligand_.H3_electrostatic_charge, ligand_.H3_NMR_shift, ligand_.H4_electrostatic_charge, ligand_.H4_NMR_shift, ligand_.H11_electrostatic_charge, ligand_.H11_NMR_shift, ligand_.H9_electrostatic_charge, ligand_.H9_NMR_shift, ...]\n",
       "Index: []\n",
       "\n",
       "[0 rows x 119 columns]"
      ]
     },
     "execution_count": 41,
     "metadata": {},
     "output_type": "execute_result"
    }
   ],
   "source": [
    "ndf[~ndf.applymap(np.isreal).all(1)]"
   ]
  },
  {
   "cell_type": "code",
   "execution_count": null,
   "metadata": {},
   "outputs": [],
   "source": []
  },
  {
   "cell_type": "code",
   "execution_count": 41,
   "metadata": {},
   "outputs": [],
   "source": [
    "ndf=df\n",
    "ndf.drop('index', axis=1, inplace=True)\n",
    "ndf = ndf.astype(float)\n",
    "\n",
    "data=ndf\n",
    "y = data.pop('yield')\n",
    "X = data\n",
    "X_train, X_test, y_train, y_test = train_test_split( X, y, test_size=0.30,random_state = 42)"
   ]
  },
  {
   "cell_type": "code",
   "execution_count": 42,
   "metadata": {},
   "outputs": [],
   "source": [
    "    \n",
    "data=data.reindex(np.random.permutation(data.index))\n",
    "rf = RandomForestRegressor(n_estimators = 1000, random_state = 42)\n",
    "# Train the model on training data\n",
    "rf.fit(X_train ,y_train);\n"
   ]
  },
  {
   "cell_type": "code",
   "execution_count": 45,
   "metadata": {},
   "outputs": [
    {
     "name": "stdout",
     "output_type": "stream",
     "text": [
      "Mean Absolute Error: 0.93 degrees.\n"
     ]
    }
   ],
   "source": [
    "# Use the forest's predict method on the test data\n",
    "predictions = rf.predict(X_test)\n",
    "# Calculate the absolute errors\n",
    "errors =r2_score(y_test,predictions )\n",
    "# Print out the mean absolute error (mae)\n",
    "print('Mean Absolute Error:', round(np.mean(errors), 2), 'degrees.')\n"
   ]
  },
  {
   "cell_type": "code",
   "execution_count": 53,
   "metadata": {},
   "outputs": [
    {
     "data": {
      "text/plain": [
       "(4599, 134)"
      ]
     },
     "execution_count": 53,
     "metadata": {},
     "output_type": "execute_result"
    }
   ],
   "source": [
    "df.shape"
   ]
  },
  {
   "cell_type": "code",
   "execution_count": null,
   "metadata": {},
   "outputs": [],
   "source": []
  }
 ],
 "metadata": {
  "kernelspec": {
   "display_name": "Python 3",
   "language": "python",
   "name": "python3"
  },
  "language_info": {
   "codemirror_mode": {
    "name": "ipython",
    "version": 3
   },
   "file_extension": ".py",
   "mimetype": "text/x-python",
   "name": "python",
   "nbconvert_exporter": "python",
   "pygments_lexer": "ipython3",
   "version": "3.6.12"
  }
 },
 "nbformat": 4,
 "nbformat_minor": 4
}
