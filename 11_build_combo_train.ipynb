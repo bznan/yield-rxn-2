{
 "cells": [
  {
   "cell_type": "code",
   "execution_count": 6,
   "metadata": {},
   "outputs": [],
   "source": [
    "import random\n",
    "import json\n",
    "from collections import defaultdict"
   ]
  },
  {
   "cell_type": "code",
   "execution_count": 7,
   "metadata": {},
   "outputs": [],
   "source": [
    "\n",
    "def isfloat(value):\n",
    "    try:\n",
    "        float(value)\n",
    "        return True\n",
    "    except ValueError:\n",
    "        return False\n",
    "\n",
    "\n",
    "def split_data(input_name, t_ratio, output_test ):\n",
    "    data = json.load(open('data/'+input_name+'_reactions_data.json'))\n",
    "    n= len(data)\n",
    "    random.seed(4)\n",
    "    train_idxs = random.sample(range(n), int(t_ratio*n))  \n",
    "    train,test=[],{\"test\":[]}\n",
    "    \n",
    "    for i, line in enumerate(data):\n",
    "        \n",
    "        if \"Reaction_Num\" in line:\n",
    "            name = line[\"Reaction_Num\"]\n",
    "            line['Id'] = line[\"Reaction_Num\"]\n",
    "            del line[\"Reaction_Num\"]\n",
    "        if input_name=='az':\n",
    "            y= line['yield']['Yield']\n",
    "            del line['yield']\n",
    "            line['yield'] = y\n",
    "            \n",
    "        if i in train_idxs:\n",
    "            train.append(line)\n",
    "        else:\n",
    "            test['test'].append(line)\n",
    "            \n",
    "            \n",
    "    with open('data/'+output_test+'_test.json','w') as f:       \n",
    "        json.dump(test,f)            \n",
    "    return train  \n",
    "        \n"
   ]
  },
  {
   "cell_type": "code",
   "execution_count": 8,
   "metadata": {},
   "outputs": [],
   "source": [
    "\n",
    "su_train = split_data('suzuki', 0.8, 'su' )\n",
    "dy_train = split_data('doyle', 0.8, 'dy' )\n",
    "az_train = split_data('az', 0.5, 'az' )\n",
    "\n",
    "train=[]\n",
    "train.extend(dy_train)\n",
    "train.extend(su_train)\n",
    "train.extend(az_train)"
   ]
  },
  {
   "cell_type": "code",
   "execution_count": 9,
   "metadata": {},
   "outputs": [
    {
     "name": "stdout",
     "output_type": "stream",
     "text": [
      "7385\n"
     ]
    }
   ],
   "source": [
    "for idx, reaction in enumerate(train):\n",
    "    reaction['Id']=idx\n",
    "print(idx)"
   ]
  },
  {
   "cell_type": "code",
   "execution_count": 10,
   "metadata": {},
   "outputs": [],
   "source": [
    "train_dict={'train':train}\n",
    "with open('data/combo_train.json', 'w') as f:\n",
    "    json.dump(train_dict,f)   "
   ]
  },
  {
   "cell_type": "code",
   "execution_count": null,
   "metadata": {},
   "outputs": [],
   "source": []
  }
 ],
 "metadata": {
  "kernelspec": {
   "display_name": "yieldrxn",
   "language": "python",
   "name": "yieldrxn"
  },
  "language_info": {
   "codemirror_mode": {
    "name": "ipython",
    "version": 3
   },
   "file_extension": ".py",
   "mimetype": "text/x-python",
   "name": "python",
   "nbconvert_exporter": "python",
   "pygments_lexer": "ipython3",
   "version": "3.6.10"
  }
 },
 "nbformat": 4,
 "nbformat_minor": 4
}
